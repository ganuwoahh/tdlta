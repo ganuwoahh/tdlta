{
  "cells": [
    {
      "cell_type": "markdown",
      "metadata": {
        "id": "view-in-github",
        "colab_type": "text"
      },
      "source": [
        "<a href=\"https://colab.research.google.com/github/ganuwoahh/tdlta/blob/main/houses.ipynb\" target=\"_parent\"><img src=\"https://colab.research.google.com/assets/colab-badge.svg\" alt=\"Open In Colab\"/></a>"
      ]
    },
    {
      "cell_type": "code",
      "execution_count": 1,
      "metadata": {
        "colab": {
          "base_uri": "https://localhost:8080/"
        },
        "id": "XoOMjym09HDh",
        "outputId": "597da4ef-3595-41e3-bba5-ffca12a1a58e"
      },
      "outputs": [
        {
          "output_type": "stream",
          "name": "stdout",
          "text": [
            "Mounted at /content/drive\n"
          ]
        }
      ],
      "source": [
        "from google.colab import drive\n",
        "drive.mount('/content/drive')"
      ]
    },
    {
      "cell_type": "code",
      "execution_count": 27,
      "metadata": {
        "id": "KKpE_CDe8tb3"
      },
      "outputs": [],
      "source": [
        "import pandas as pd\n",
        "import numpy as np\n",
        "import tensorflow as tf\n",
        "from tensorflow.keras import layers, Model, applications\n",
        "import os\n",
        "from PIL import Image\n",
        "import matplotlib.pyplot as plt\n",
        "from sklearn.model_selection import train_test_split\n",
        "from sklearn.preprocessing import StandardScaler"
      ]
    },
    {
      "cell_type": "code",
      "execution_count": 28,
      "metadata": {
        "id": "ExJG0HiE8tb6"
      },
      "outputs": [],
      "source": [
        "np.random.seed(17)\n",
        "tf.random.set_seed(17)"
      ]
    },
    {
      "cell_type": "code",
      "execution_count": 29,
      "metadata": {
        "id": "hcrUlYde8tb7"
      },
      "outputs": [],
      "source": [
        "def load_text_data(csv_path):\n",
        "    df = pd.read_csv(csv_path)\n",
        "    df = df.drop('zip', axis=1)\n",
        "\n",
        "    df['price'] = np.log1p(df['price'])\n",
        "    df['area_sq_ft'] = np.log1p(df['area_sq_ft'])\n",
        "\n",
        "    return df"
      ]
    },
    {
      "cell_type": "code",
      "execution_count": 30,
      "metadata": {
        "id": "louk0DzZ8tb8"
      },
      "outputs": [],
      "source": [
        "def load_and_preprocess_image(image_path, target_size=(224, 224)):\n",
        "    try:\n",
        "        img = Image.open(image_path)\n",
        "        img = img.resize(target_size)\n",
        "        img = np.array(img) / 255.0\n",
        "        return img\n",
        "    except Exception as e:\n",
        "        print(f\"Error loading image {image_path}: {e}\")\n",
        "        # Return a blank image in case of error\n",
        "        return np.zeros(target_size + (3,))\n",
        "\n",
        "def load_house_images(base_dir, sno, locations):\n",
        "    images_dict = {}\n",
        "    for loc in locations:\n",
        "        img_path = os.path.join(base_dir, f\"{sno}_{loc}.jpg\")\n",
        "        img = load_and_preprocess_image(img_path)\n",
        "        images_dict[loc] = img\n",
        "    return images_dict"
      ]
    },
    {
      "cell_type": "code",
      "source": [
        "def create_room_model(input_shape=(224, 224, 3), room_type=\"\"):\n",
        "    inputs = layers.Input(shape=input_shape)\n",
        "\n",
        "    augmentation = tf.keras.Sequential([\n",
        "        layers.RandomFlip(\"horizontal\"),\n",
        "        layers.RandomRotation(0.1),\n",
        "        layers.RandomZoom(0.1),\n",
        "        layers.RandomBrightness(0.2),\n",
        "        layers.RandomContrast(0.2),\n",
        "    ])\n",
        "    x = augmentation(inputs)\n",
        "\n",
        "    x = layers.Conv2D(32, 3, activation='relu')(x)\n",
        "    x = layers.MaxPooling2D()(x)\n",
        "    x = layers.Conv2D(64, 3, activation='relu')(x)\n",
        "    x = layers.MaxPooling2D()(x)\n",
        "    x = layers.Conv2D(128, 3, activation='relu')(x)\n",
        "    x = layers.MaxPooling2D()(x)\n",
        "\n",
        "    x = layers.GlobalAveragePooling2D()(x)\n",
        "    x = layers.Dense(64, activation='relu')(x)\n",
        "    x = layers.Dropout(0.3)(x)\n",
        "\n",
        "    return Model(inputs=inputs, outputs=x, name=f\"{room_type}_model\")"
      ],
      "metadata": {
        "id": "RmHYflz-99va"
      },
      "execution_count": 31,
      "outputs": []
    },
    {
      "cell_type": "code",
      "execution_count": 32,
      "metadata": {
        "id": "QVX6yZds8tb9"
      },
      "outputs": [],
      "source": [
        "def create_text_model(input_shape):\n",
        "    inputs = layers.Input(shape=input_shape)\n",
        "    x = layers.Dense(32, activation='relu')(inputs)\n",
        "    x = layers.Dropout(0.2)(x)\n",
        "    x = layers.Dense(16, activation='relu')(x)\n",
        "    return Model(inputs=inputs, outputs=x)"
      ]
    },
    {
      "cell_type": "code",
      "execution_count": 33,
      "metadata": {
        "id": "oW414fTW8tb-"
      },
      "outputs": [],
      "source": [
        "def create_combined_model(text_shape):\n",
        "    # Create separate inputs for each room type\n",
        "    bedroom_input = layers.Input(shape=(224, 224, 3), name='bedroom_input')\n",
        "    bathroom_input = layers.Input(shape=(224, 224, 3), name='bathroom_input')\n",
        "    kitchen_input = layers.Input(shape=(224, 224, 3), name='kitchen_input')\n",
        "    frontal_input = layers.Input(shape=(224, 224, 3), name='frontal_input')\n",
        "\n",
        "    # Create room-specific models\n",
        "    bedroom_model = create_room_model(room_type=\"bedroom\")\n",
        "    bathroom_model = create_room_model(room_type=\"bathroom\")\n",
        "    kitchen_model = create_room_model(room_type=\"kitchen\")\n",
        "    frontal_model = create_room_model(room_type=\"frontal\")\n",
        "\n",
        "    # Process each room type\n",
        "    bedroom_features = bedroom_model(bedroom_input)\n",
        "    bathroom_features = bathroom_model(bathroom_input)\n",
        "    kitchen_features = kitchen_model(kitchen_input)\n",
        "    frontal_features = frontal_model(frontal_input)\n",
        "\n",
        "    image_features = layers.Concatenate()([\n",
        "        bedroom_features,\n",
        "        bathroom_features,\n",
        "        kitchen_features,\n",
        "        frontal_features\n",
        "    ])\n",
        "\n",
        "    attention = layers.Dense(256, activation='tanh')(image_features)\n",
        "    attention = layers.Dense(1, activation='softmax')(attention)\n",
        "    image_features = layers.Multiply()([image_features, attention])\n",
        "\n",
        "    # Process text features\n",
        "    text_input = layers.Input(shape=text_shape)\n",
        "    text_model = create_text_model(text_shape)\n",
        "    text_features = text_model(text_input)\n",
        "\n",
        "    # Combine all features\n",
        "    combined = layers.Concatenate()([image_features, text_features])\n",
        "    x = layers.Dense(128, activation='relu')(combined)\n",
        "    x = layers.Dropout(0.3)(x)\n",
        "    x = layers.Dense(64, activation='relu')(x)\n",
        "    x = layers.Dropout(0.2)(x)\n",
        "    output = layers.Dense(1, activation='linear')(x)\n",
        "\n",
        "    return Model(\n",
        "        inputs={\n",
        "            'bedroom': bedroom_input,\n",
        "            'bathroom': bathroom_input,\n",
        "            'kitchen': kitchen_input,\n",
        "            'frontal': frontal_input,\n",
        "            'text': text_input\n",
        "        },\n",
        "        outputs=output\n",
        "    )"
      ]
    },
    {
      "cell_type": "code",
      "execution_count": 35,
      "metadata": {
        "id": "XrIXieng8tb-"
      },
      "outputs": [],
      "source": [
        "def prepare_data(image_dir, csv_path):\n",
        "    # Load textual data\n",
        "    df = load_text_data(csv_path)\n",
        "\n",
        "    # Prepare text features\n",
        "    text_features = ['beds', 'baths', 'area_sq_ft']\n",
        "    X_text = df[text_features].values\n",
        "    y = df['price'].values\n",
        "\n",
        "    # Normalize text features\n",
        "    scaler = StandardScaler()\n",
        "    X_text_scaled = scaler.fit_transform(X_text)\n",
        "\n",
        "    # Load images\n",
        "    locations = ['bathroom', 'frontal', 'kitchen', 'bedroom']\n",
        "    X_images = {loc: [] for loc in locations}\n",
        "\n",
        "    for sno in df['sno']:\n",
        "        house_images = load_house_images(image_dir, sno, locations)\n",
        "        for loc in locations:\n",
        "            X_images[loc].append(house_images[loc])\n",
        "\n",
        "    # Convert lists to numpy arrays\n",
        "    for loc in locations:\n",
        "        X_images[loc] = np.array(X_images[loc])\n",
        "\n",
        "    # Split data\n",
        "    indices = np.arange(len(y))\n",
        "    (train_idx, test_idx) = train_test_split(indices, test_size=0.1, random_state=17)\n",
        "\n",
        "    train_data = {\n",
        "        'bedroom': X_images['bedroom'][train_idx],\n",
        "        'bathroom': X_images['bathroom'][train_idx],\n",
        "        'kitchen': X_images['kitchen'][train_idx],\n",
        "        'frontal': X_images['frontal'][train_idx],\n",
        "        'text': X_text_scaled[train_idx]\n",
        "    }\n",
        "\n",
        "    test_data = {\n",
        "        'bedroom': X_images['bedroom'][test_idx],\n",
        "        'bathroom': X_images['bathroom'][test_idx],\n",
        "        'kitchen': X_images['kitchen'][test_idx],\n",
        "        'frontal': X_images['frontal'][test_idx],\n",
        "        'text': X_text_scaled[test_idx]\n",
        "    }\n",
        "\n",
        "    return train_data, test_data, y[train_idx], y[test_idx]"
      ]
    },
    {
      "cell_type": "code",
      "execution_count": 36,
      "metadata": {
        "id": "Bm5W_yXR9Bsy"
      },
      "outputs": [],
      "source": [
        "IMAGE_DIR = \"/content/drive/MyDrive/houses_2\"\n",
        "CSV_PATH = \"/content/drive/MyDrive/housinginfo.csv\""
      ]
    },
    {
      "cell_type": "code",
      "execution_count": 37,
      "metadata": {
        "id": "fw6rTNjh8tb_",
        "colab": {
          "base_uri": "https://localhost:8080/"
        },
        "outputId": "cc0ea72d-3cef-4e1f-a440-b495f3a4a96f"
      },
      "outputs": [
        {
          "output_type": "stream",
          "name": "stdout",
          "text": [
            "Checking data paths...\n",
            "Image directory exists: True\n",
            "CSV file exists: True\n",
            "\n",
            "First few files in image directory:\n",
            "35_kitchen.jpg\n",
            "359_kitchen.jpg\n",
            "361_frontal.jpg\n",
            "357_bathroom.jpg\n",
            "358_bedroom.jpg\n",
            "\n",
            "Preparing data...\n"
          ]
        }
      ],
      "source": [
        "print(\"Checking data paths...\")\n",
        "print(f\"Image directory exists: {os.path.exists(IMAGE_DIR)}\")\n",
        "print(f\"CSV file exists: {os.path.exists(CSV_PATH)}\")\n",
        "\n",
        "print(\"\\nFirst few files in image directory:\")\n",
        "for file in os.listdir(IMAGE_DIR)[:5]:\n",
        "    print(file)\n",
        "\n",
        "print(\"\\nPreparing data...\")\n",
        "train_data, test_data, y_train, y_test = prepare_data(IMAGE_DIR, CSV_PATH)"
      ]
    },
    {
      "cell_type": "code",
      "execution_count": 38,
      "metadata": {
        "id": "tKTVivfo8tb_"
      },
      "outputs": [],
      "source": [
        "#IMAGE_DIR = r\"D:\\code_stuff\\house\\houses_2\"\n",
        "#CSV_PATH = r\"D:\\code_stuff\\house\\housinginfo.csv\""
      ]
    },
    {
      "cell_type": "code",
      "execution_count": 39,
      "metadata": {
        "id": "ujMCrmgn8tcD",
        "colab": {
          "base_uri": "https://localhost:8080/"
        },
        "outputId": "5153358d-f145-41c1-ce08-81e09ced9b03"
      },
      "outputs": [
        {
          "output_type": "stream",
          "name": "stderr",
          "text": [
            "/usr/local/lib/python3.11/dist-packages/keras/src/models/functional.py:106: UserWarning: When providing `inputs` as a dict, all keys in the dict must match the names of the corresponding tensors. Received key 'bedroom' mapping to value <KerasTensor shape=(None, 224, 224, 3), dtype=float32, sparse=False, name=bedroom_input> which has name 'bedroom_input'. Change the tensor name to 'bedroom' (via `Input(..., name='bedroom')`)\n",
            "  warnings.warn(\n",
            "/usr/local/lib/python3.11/dist-packages/keras/src/models/functional.py:106: UserWarning: When providing `inputs` as a dict, all keys in the dict must match the names of the corresponding tensors. Received key 'bathroom' mapping to value <KerasTensor shape=(None, 224, 224, 3), dtype=float32, sparse=False, name=bathroom_input> which has name 'bathroom_input'. Change the tensor name to 'bathroom' (via `Input(..., name='bathroom')`)\n",
            "  warnings.warn(\n",
            "/usr/local/lib/python3.11/dist-packages/keras/src/models/functional.py:106: UserWarning: When providing `inputs` as a dict, all keys in the dict must match the names of the corresponding tensors. Received key 'kitchen' mapping to value <KerasTensor shape=(None, 224, 224, 3), dtype=float32, sparse=False, name=kitchen_input> which has name 'kitchen_input'. Change the tensor name to 'kitchen' (via `Input(..., name='kitchen')`)\n",
            "  warnings.warn(\n",
            "/usr/local/lib/python3.11/dist-packages/keras/src/models/functional.py:106: UserWarning: When providing `inputs` as a dict, all keys in the dict must match the names of the corresponding tensors. Received key 'frontal' mapping to value <KerasTensor shape=(None, 224, 224, 3), dtype=float32, sparse=False, name=frontal_input> which has name 'frontal_input'. Change the tensor name to 'frontal' (via `Input(..., name='frontal')`)\n",
            "  warnings.warn(\n",
            "/usr/local/lib/python3.11/dist-packages/keras/src/models/functional.py:106: UserWarning: When providing `inputs` as a dict, all keys in the dict must match the names of the corresponding tensors. Received key 'text' mapping to value <KerasTensor shape=(None, 3), dtype=float32, sparse=False, name=keras_tensor_76> which has name 'keras_tensor_76'. Change the tensor name to 'text' (via `Input(..., name='text')`)\n",
            "  warnings.warn(\n"
          ]
        },
        {
          "output_type": "stream",
          "name": "stdout",
          "text": [
            "Starting training...\n",
            "Epoch 1/100\n"
          ]
        },
        {
          "output_type": "stream",
          "name": "stderr",
          "text": [
            "/usr/local/lib/python3.11/dist-packages/keras/src/ops/nn.py:907: UserWarning: You are using a softmax over axis -1 of a tensor of shape (None, 1). This axis has size 1. The softmax operation will always return the value 1, which is likely not what you intended. Did you mean to use a sigmoid instead?\n",
            "  warnings.warn(\n"
          ]
        },
        {
          "output_type": "stream",
          "name": "stdout",
          "text": [
            "\u001b[1m61/61\u001b[0m \u001b[32m━━━━━━━━━━━━━━━━━━━━\u001b[0m\u001b[37m\u001b[0m \u001b[1m23s\u001b[0m 97ms/step - loss: 193.5798 - mae: 13.2260 - val_loss: 150.8284 - val_mae: 12.2494 - learning_rate: 1.0000e-04\n",
            "Epoch 2/100\n",
            "\u001b[1m61/61\u001b[0m \u001b[32m━━━━━━━━━━━━━━━━━━━━\u001b[0m\u001b[37m\u001b[0m \u001b[1m12s\u001b[0m 77ms/step - loss: 60.8983 - mae: 6.5074 - val_loss: 149.3281 - val_mae: 12.1876 - learning_rate: 1.0000e-04\n",
            "Epoch 3/100\n",
            "\u001b[1m61/61\u001b[0m \u001b[32m━━━━━━━━━━━━━━━━━━━━\u001b[0m\u001b[37m\u001b[0m \u001b[1m6s\u001b[0m 86ms/step - loss: 57.1314 - mae: 6.4203 - val_loss: 143.9981 - val_mae: 11.9675 - learning_rate: 1.0000e-04\n",
            "Epoch 4/100\n",
            "\u001b[1m61/61\u001b[0m \u001b[32m━━━━━━━━━━━━━━━━━━━━\u001b[0m\u001b[37m\u001b[0m \u001b[1m5s\u001b[0m 76ms/step - loss: 54.0183 - mae: 6.2859 - val_loss: 132.9114 - val_mae: 11.4955 - learning_rate: 1.0000e-04\n",
            "Epoch 5/100\n",
            "\u001b[1m61/61\u001b[0m \u001b[32m━━━━━━━━━━━━━━━━━━━━\u001b[0m\u001b[37m\u001b[0m \u001b[1m5s\u001b[0m 72ms/step - loss: 40.0569 - mae: 5.3680 - val_loss: 72.0860 - val_mae: 8.4471 - learning_rate: 1.0000e-04\n",
            "Epoch 6/100\n",
            "\u001b[1m61/61\u001b[0m \u001b[32m━━━━━━━━━━━━━━━━━━━━\u001b[0m\u001b[37m\u001b[0m \u001b[1m5s\u001b[0m 84ms/step - loss: 25.9360 - mae: 4.2701 - val_loss: 9.7021 - val_mae: 2.9355 - learning_rate: 1.0000e-04\n",
            "Epoch 7/100\n",
            "\u001b[1m61/61\u001b[0m \u001b[32m━━━━━━━━━━━━━━━━━━━━\u001b[0m\u001b[37m\u001b[0m \u001b[1m10s\u001b[0m 80ms/step - loss: 15.1763 - mae: 3.1507 - val_loss: 1.3147 - val_mae: 0.9053 - learning_rate: 1.0000e-04\n",
            "Epoch 8/100\n",
            "\u001b[1m61/61\u001b[0m \u001b[32m━━━━━━━━━━━━━━━━━━━━\u001b[0m\u001b[37m\u001b[0m \u001b[1m5s\u001b[0m 80ms/step - loss: 15.7205 - mae: 3.2363 - val_loss: 1.4664 - val_mae: 0.9639 - learning_rate: 1.0000e-04\n",
            "Epoch 9/100\n",
            "\u001b[1m61/61\u001b[0m \u001b[32m━━━━━━━━━━━━━━━━━━━━\u001b[0m\u001b[37m\u001b[0m \u001b[1m4s\u001b[0m 73ms/step - loss: 17.1838 - mae: 3.4525 - val_loss: 1.5001 - val_mae: 0.9760 - learning_rate: 1.0000e-04\n",
            "Epoch 10/100\n",
            "\u001b[1m61/61\u001b[0m \u001b[32m━━━━━━━━━━━━━━━━━━━━\u001b[0m\u001b[37m\u001b[0m \u001b[1m5s\u001b[0m 83ms/step - loss: 12.7573 - mae: 2.9687 - val_loss: 1.2239 - val_mae: 0.8785 - learning_rate: 1.0000e-04\n",
            "Epoch 11/100\n",
            "\u001b[1m61/61\u001b[0m \u001b[32m━━━━━━━━━━━━━━━━━━━━\u001b[0m\u001b[37m\u001b[0m \u001b[1m5s\u001b[0m 75ms/step - loss: 13.5014 - mae: 2.9883 - val_loss: 1.9087 - val_mae: 1.1208 - learning_rate: 1.0000e-04\n",
            "Epoch 12/100\n",
            "\u001b[1m61/61\u001b[0m \u001b[32m━━━━━━━━━━━━━━━━━━━━\u001b[0m\u001b[37m\u001b[0m \u001b[1m5s\u001b[0m 74ms/step - loss: 12.6032 - mae: 2.8555 - val_loss: 2.0498 - val_mae: 1.1525 - learning_rate: 1.0000e-04\n",
            "Epoch 13/100\n",
            "\u001b[1m61/61\u001b[0m \u001b[32m━━━━━━━━━━━━━━━━━━━━\u001b[0m\u001b[37m\u001b[0m \u001b[1m5s\u001b[0m 84ms/step - loss: 12.1927 - mae: 2.8240 - val_loss: 1.8314 - val_mae: 1.0875 - learning_rate: 1.0000e-04\n",
            "Epoch 14/100\n",
            "\u001b[1m61/61\u001b[0m \u001b[32m━━━━━━━━━━━━━━━━━━━━\u001b[0m\u001b[37m\u001b[0m \u001b[1m5s\u001b[0m 73ms/step - loss: 13.3530 - mae: 2.9470 - val_loss: 2.0485 - val_mae: 1.1644 - learning_rate: 1.0000e-04\n",
            "Epoch 15/100\n",
            "\u001b[1m61/61\u001b[0m \u001b[32m━━━━━━━━━━━━━━━━━━━━\u001b[0m\u001b[37m\u001b[0m \u001b[1m5s\u001b[0m 74ms/step - loss: 11.6536 - mae: 2.7786 - val_loss: 3.0379 - val_mae: 1.4270 - learning_rate: 1.0000e-04\n",
            "Epoch 16/100\n",
            "\u001b[1m61/61\u001b[0m \u001b[32m━━━━━━━━━━━━━━━━━━━━\u001b[0m\u001b[37m\u001b[0m \u001b[1m5s\u001b[0m 84ms/step - loss: 10.6742 - mae: 2.6151 - val_loss: 1.8585 - val_mae: 1.0901 - learning_rate: 5.0000e-05\n",
            "Epoch 17/100\n",
            "\u001b[1m61/61\u001b[0m \u001b[32m━━━━━━━━━━━━━━━━━━━━\u001b[0m\u001b[37m\u001b[0m \u001b[1m5s\u001b[0m 74ms/step - loss: 12.8381 - mae: 2.9285 - val_loss: 1.6443 - val_mae: 1.0262 - learning_rate: 5.0000e-05\n",
            "Epoch 18/100\n",
            "\u001b[1m61/61\u001b[0m \u001b[32m━━━━━━━━━━━━━━━━━━━━\u001b[0m\u001b[37m\u001b[0m \u001b[1m5s\u001b[0m 77ms/step - loss: 13.5904 - mae: 3.0735 - val_loss: 1.7294 - val_mae: 1.0538 - learning_rate: 5.0000e-05\n",
            "Epoch 19/100\n",
            "\u001b[1m61/61\u001b[0m \u001b[32m━━━━━━━━━━━━━━━━━━━━\u001b[0m\u001b[37m\u001b[0m \u001b[1m5s\u001b[0m 79ms/step - loss: 12.4108 - mae: 2.8968 - val_loss: 2.3400 - val_mae: 1.2437 - learning_rate: 5.0000e-05\n",
            "Epoch 20/100\n",
            "\u001b[1m61/61\u001b[0m \u001b[32m━━━━━━━━━━━━━━━━━━━━\u001b[0m\u001b[37m\u001b[0m \u001b[1m5s\u001b[0m 74ms/step - loss: 12.3813 - mae: 2.8027 - val_loss: 2.5531 - val_mae: 1.2950 - learning_rate: 5.0000e-05\n",
            "Epoch 21/100\n",
            "\u001b[1m61/61\u001b[0m \u001b[32m━━━━━━━━━━━━━━━━━━━━\u001b[0m\u001b[37m\u001b[0m \u001b[1m5s\u001b[0m 82ms/step - loss: 9.3170 - mae: 2.4729 - val_loss: 2.0980 - val_mae: 1.1647 - learning_rate: 2.5000e-05\n",
            "Epoch 22/100\n",
            "\u001b[1m61/61\u001b[0m \u001b[32m━━━━━━━━━━━━━━━━━━━━\u001b[0m\u001b[37m\u001b[0m \u001b[1m5s\u001b[0m 74ms/step - loss: 11.6718 - mae: 2.7741 - val_loss: 2.0141 - val_mae: 1.1428 - learning_rate: 2.5000e-05\n",
            "Epoch 23/100\n",
            "\u001b[1m61/61\u001b[0m \u001b[32m━━━━━━━━━━━━━━━━━━━━\u001b[0m\u001b[37m\u001b[0m \u001b[1m5s\u001b[0m 76ms/step - loss: 11.1117 - mae: 2.7385 - val_loss: 1.6168 - val_mae: 1.0163 - learning_rate: 2.5000e-05\n",
            "Epoch 24/100\n",
            "\u001b[1m61/61\u001b[0m \u001b[32m━━━━━━━━━━━━━━━━━━━━\u001b[0m\u001b[37m\u001b[0m \u001b[1m5s\u001b[0m 82ms/step - loss: 10.8167 - mae: 2.6649 - val_loss: 1.5146 - val_mae: 0.9827 - learning_rate: 2.5000e-05\n",
            "Epoch 25/100\n",
            "\u001b[1m61/61\u001b[0m \u001b[32m━━━━━━━━━━━━━━━━━━━━\u001b[0m\u001b[37m\u001b[0m \u001b[1m4s\u001b[0m 74ms/step - loss: 10.0602 - mae: 2.5255 - val_loss: 1.5060 - val_mae: 0.9841 - learning_rate: 2.5000e-05\n"
          ]
        }
      ],
      "source": [
        "model = create_combined_model(text_shape=(3,))\n",
        "model.compile(\n",
        "    optimizer=tf.keras.optimizers.Adam(learning_rate=1e-4),\n",
        "    loss='mse',\n",
        "    metrics=['mae']\n",
        ")\n",
        "\n",
        "callbacks = [\n",
        "    tf.keras.callbacks.EarlyStopping(\n",
        "        patience=15,\n",
        "        restore_best_weights=True\n",
        "    ),\n",
        "    tf.keras.callbacks.ReduceLROnPlateau(\n",
        "        factor=0.5,\n",
        "        patience=5,\n",
        "        min_lr=1e-6\n",
        "    ),\n",
        "    tf.keras.callbacks.TensorBoard(\n",
        "        log_dir='/content/logs',\n",
        "        histogram_freq=1\n",
        "    )\n",
        "]\n",
        "\n",
        "print(\"Starting training...\")\n",
        "history = model.fit(\n",
        "    train_data,\n",
        "    y_train,\n",
        "    validation_data=(test_data, y_test),\n",
        "    batch_size=8,\n",
        "    epochs=100,\n",
        "    callbacks=callbacks\n",
        ")"
      ]
    },
    {
      "cell_type": "code",
      "source": [
        "y_pred = model.predict(test_data)\n",
        "\n",
        "# MAE in log space (same as training)\n",
        "mae_log = np.mean(np.abs(y_pred - y_test))\n",
        "print(f\"MAE in log space: {mae_log:.2f}\")\n",
        "\n",
        "# MAE in dollars\n",
        "y_pred_original = np.expm1(y_pred)\n",
        "y_test_original = np.expm1(y_test)\n",
        "mae_dollars = np.mean(np.abs(y_pred_original - y_test_original))\n",
        "print(f\"MAE in dollars: ${mae_dollars:,.2f}\")\n",
        "\n",
        "# MAE as percentage of actual price\n",
        "mae_percentage = np.mean(np.abs(y_pred_original - y_test_original) / y_test_original * 100)\n",
        "print(f\"MAE as percentage of house price: {mae_percentage:.1f}%\")"
      ],
      "metadata": {
        "colab": {
          "base_uri": "https://localhost:8080/"
        },
        "id": "BaCJPls_8hGS",
        "outputId": "97491345-6d7f-4902-e987-71eff185c5af"
      },
      "execution_count": 44,
      "outputs": [
        {
          "output_type": "stream",
          "name": "stdout",
          "text": [
            "\u001b[1m2/2\u001b[0m \u001b[32m━━━━━━━━━━━━━━━━━━━━\u001b[0m\u001b[37m\u001b[0m \u001b[1m0s\u001b[0m 77ms/step\n",
            "MAE in log space: 1.08\n",
            "MAE in dollars: $566,964.73\n",
            "MAE as percentage of house price: 248.9%\n"
          ]
        }
      ]
    },
    {
      "cell_type": "code",
      "source": [
        "plt.figure(figsize=(12, 4))\n",
        "\n",
        "plt.subplot(1, 2, 1)\n",
        "plt.plot(history.history['loss'], label='Training Loss')\n",
        "plt.plot(history.history['val_loss'], label='Validation Loss')\n",
        "plt.title('Model Loss')\n",
        "plt.xlabel('Epoch')\n",
        "plt.ylabel('Loss')\n",
        "plt.legend()\n",
        "\n",
        "plt.subplot(1, 2, 2)\n",
        "plt.plot(history.history['mae'], label='Training MAE')\n",
        "plt.plot(history.history['val_mae'], label='Validation MAE')\n",
        "plt.title('Model MAE')\n",
        "plt.xlabel('Epoch')\n",
        "plt.ylabel('MAE')\n",
        "plt.legend()\n",
        "\n",
        "plt.tight_layout()\n",
        "plt.show()"
      ],
      "metadata": {
        "colab": {
          "base_uri": "https://localhost:8080/",
          "height": 382
        },
        "id": "MBBLZyMo-c-l",
        "outputId": "809d1811-3d92-4d88-a8e9-debde357e447"
      },
      "execution_count": 45,
      "outputs": [
        {
          "output_type": "display_data",
          "data": {
            "text/plain": [
              "<Figure size 1200x400 with 2 Axes>"
            ],
            "image/png": "[encoded data removed]"
          },
          "metadata": {}
        }
      ]
    }
  ],
  "metadata": {
    "accelerator": "GPU",
    "colab": {
      "gpuType": "T4",
      "provenance": [],
      "include_colab_link": true
    },
    "kernelspec": {
      "display_name": "Python 3",
      "name": "python3"
    },
    "language_info": {
      "codemirror_mode": {
        "name": "ipython",
        "version": 3
      },
      "file_extension": ".py",
      "mimetype": "text/x-python",
      "name": "python",
      "nbconvert_exporter": "python",
      "pygments_lexer": "ipython3",
      "version": "3.10.10"
    }
  },
  "nbformat": 4,
  "nbformat_minor": 0
}